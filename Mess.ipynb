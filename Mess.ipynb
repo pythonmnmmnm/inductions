{
 "cells": [
  {
   "cell_type": "code",
   "execution_count": 94,
   "metadata": {},
   "outputs": [],
   "source": [
    "#mess\n",
    "import pymongo\n",
    "import json\n",
    "from pymongo import MongoClient "
   ]
  },
  {
   "cell_type": "code",
   "execution_count": 95,
   "metadata": {},
   "outputs": [],
   "source": [
    "import pandas as pd\n",
    "import numpy as np"
   ]
  },
  {
   "cell_type": "code",
   "execution_count": 96,
   "metadata": {},
   "outputs": [
    {
     "data": {
      "text/html": [
       "<div>\n",
       "<style scoped>\n",
       "    .dataframe tbody tr th:only-of-type {\n",
       "        vertical-align: middle;\n",
       "    }\n",
       "\n",
       "    .dataframe tbody tr th {\n",
       "        vertical-align: top;\n",
       "    }\n",
       "\n",
       "    .dataframe thead th {\n",
       "        text-align: right;\n",
       "    }\n",
       "</style>\n",
       "<table border=\"1\" class=\"dataframe\">\n",
       "  <thead>\n",
       "    <tr style=\"text-align: right;\">\n",
       "      <th></th>\n",
       "      <th>Food Item</th>\n",
       "      <th>%people (Ate)</th>\n",
       "      <th>%people(Like it)</th>\n",
       "      <th>Total people</th>\n",
       "      <th>Number of people liking</th>\n",
       "      <th>Attendence</th>\n",
       "    </tr>\n",
       "  </thead>\n",
       "  <tbody>\n",
       "    <tr>\n",
       "      <th>0</th>\n",
       "      <td>A</td>\n",
       "      <td>0.500</td>\n",
       "      <td>0.910</td>\n",
       "      <td>500</td>\n",
       "      <td>455.000</td>\n",
       "      <td>1000</td>\n",
       "    </tr>\n",
       "    <tr>\n",
       "      <th>1</th>\n",
       "      <td>B</td>\n",
       "      <td>0.346</td>\n",
       "      <td>0.890</td>\n",
       "      <td>346</td>\n",
       "      <td>307.940</td>\n",
       "      <td>1000</td>\n",
       "    </tr>\n",
       "    <tr>\n",
       "      <th>2</th>\n",
       "      <td>C</td>\n",
       "      <td>0.978</td>\n",
       "      <td>0.090</td>\n",
       "      <td>978</td>\n",
       "      <td>88.020</td>\n",
       "      <td>1000</td>\n",
       "    </tr>\n",
       "    <tr>\n",
       "      <th>3</th>\n",
       "      <td>D</td>\n",
       "      <td>0.789</td>\n",
       "      <td>0.648</td>\n",
       "      <td>789</td>\n",
       "      <td>511.272</td>\n",
       "      <td>1000</td>\n",
       "    </tr>\n",
       "    <tr>\n",
       "      <th>4</th>\n",
       "      <td>E</td>\n",
       "      <td>0.450</td>\n",
       "      <td>0.890</td>\n",
       "      <td>450</td>\n",
       "      <td>400.500</td>\n",
       "      <td>1000</td>\n",
       "    </tr>\n",
       "    <tr>\n",
       "      <th>5</th>\n",
       "      <td>F</td>\n",
       "      <td>0.908</td>\n",
       "      <td>0.240</td>\n",
       "      <td>908</td>\n",
       "      <td>217.920</td>\n",
       "      <td>1000</td>\n",
       "    </tr>\n",
       "    <tr>\n",
       "      <th>6</th>\n",
       "      <td>G</td>\n",
       "      <td>0.678</td>\n",
       "      <td>0.680</td>\n",
       "      <td>678</td>\n",
       "      <td>461.040</td>\n",
       "      <td>1000</td>\n",
       "    </tr>\n",
       "    <tr>\n",
       "      <th>7</th>\n",
       "      <td>H</td>\n",
       "      <td>0.080</td>\n",
       "      <td>0.990</td>\n",
       "      <td>80</td>\n",
       "      <td>79.200</td>\n",
       "      <td>1000</td>\n",
       "    </tr>\n",
       "    <tr>\n",
       "      <th>8</th>\n",
       "      <td>I</td>\n",
       "      <td>0.120</td>\n",
       "      <td>0.980</td>\n",
       "      <td>120</td>\n",
       "      <td>117.600</td>\n",
       "      <td>1000</td>\n",
       "    </tr>\n",
       "    <tr>\n",
       "      <th>9</th>\n",
       "      <td>J</td>\n",
       "      <td>0.453</td>\n",
       "      <td>0.760</td>\n",
       "      <td>453</td>\n",
       "      <td>344.280</td>\n",
       "      <td>1000</td>\n",
       "    </tr>\n",
       "    <tr>\n",
       "      <th>10</th>\n",
       "      <td>K</td>\n",
       "      <td>0.910</td>\n",
       "      <td>0.234</td>\n",
       "      <td>910</td>\n",
       "      <td>212.940</td>\n",
       "      <td>1000</td>\n",
       "    </tr>\n",
       "    <tr>\n",
       "      <th>11</th>\n",
       "      <td>L</td>\n",
       "      <td>0.358</td>\n",
       "      <td>0.907</td>\n",
       "      <td>358</td>\n",
       "      <td>324.706</td>\n",
       "      <td>1000</td>\n",
       "    </tr>\n",
       "    <tr>\n",
       "      <th>12</th>\n",
       "      <td>M</td>\n",
       "      <td>0.347</td>\n",
       "      <td>0.570</td>\n",
       "      <td>347</td>\n",
       "      <td>197.790</td>\n",
       "      <td>1000</td>\n",
       "    </tr>\n",
       "  </tbody>\n",
       "</table>\n",
       "</div>"
      ],
      "text/plain": [
       "   Food Item  %people (Ate)  %people(Like it)  Total people  \\\n",
       "0          A          0.500             0.910           500   \n",
       "1          B          0.346             0.890           346   \n",
       "2          C          0.978             0.090           978   \n",
       "3          D          0.789             0.648           789   \n",
       "4          E          0.450             0.890           450   \n",
       "5          F          0.908             0.240           908   \n",
       "6          G          0.678             0.680           678   \n",
       "7          H          0.080             0.990            80   \n",
       "8          I          0.120             0.980           120   \n",
       "9          J          0.453             0.760           453   \n",
       "10         K          0.910             0.234           910   \n",
       "11         L          0.358             0.907           358   \n",
       "12         M          0.347             0.570           347   \n",
       "\n",
       "    Number of people liking  Attendence  \n",
       "0                   455.000        1000  \n",
       "1                   307.940        1000  \n",
       "2                    88.020        1000  \n",
       "3                   511.272        1000  \n",
       "4                   400.500        1000  \n",
       "5                   217.920        1000  \n",
       "6                   461.040        1000  \n",
       "7                    79.200        1000  \n",
       "8                   117.600        1000  \n",
       "9                   344.280        1000  \n",
       "10                  212.940        1000  \n",
       "11                  324.706        1000  \n",
       "12                  197.790        1000  "
      ]
     },
     "execution_count": 96,
     "metadata": {},
     "output_type": "execute_result"
    }
   ],
   "source": [
    "file = pd.read_csv('mess.csv')\n",
    "file"
   ]
  },
  {
   "cell_type": "code",
   "execution_count": 97,
   "metadata": {},
   "outputs": [
    {
     "data": {
      "text/html": [
       "<div>\n",
       "<style scoped>\n",
       "    .dataframe tbody tr th:only-of-type {\n",
       "        vertical-align: middle;\n",
       "    }\n",
       "\n",
       "    .dataframe tbody tr th {\n",
       "        vertical-align: top;\n",
       "    }\n",
       "\n",
       "    .dataframe thead th {\n",
       "        text-align: right;\n",
       "    }\n",
       "</style>\n",
       "<table border=\"1\" class=\"dataframe\">\n",
       "  <thead>\n",
       "    <tr style=\"text-align: right;\">\n",
       "      <th></th>\n",
       "      <th>Food Item</th>\n",
       "      <th>%people (Ate)</th>\n",
       "      <th>%people(Like it)</th>\n",
       "      <th>Total people</th>\n",
       "      <th>Number of people liking</th>\n",
       "      <th>Attendence</th>\n",
       "    </tr>\n",
       "  </thead>\n",
       "  <tbody>\n",
       "    <tr>\n",
       "      <th>0</th>\n",
       "      <td>A</td>\n",
       "      <td>0.500</td>\n",
       "      <td>0.910</td>\n",
       "      <td>500</td>\n",
       "      <td>455.000</td>\n",
       "      <td>1000</td>\n",
       "    </tr>\n",
       "    <tr>\n",
       "      <th>1</th>\n",
       "      <td>B</td>\n",
       "      <td>0.346</td>\n",
       "      <td>0.890</td>\n",
       "      <td>346</td>\n",
       "      <td>307.940</td>\n",
       "      <td>1000</td>\n",
       "    </tr>\n",
       "    <tr>\n",
       "      <th>2</th>\n",
       "      <td>C</td>\n",
       "      <td>0.978</td>\n",
       "      <td>0.090</td>\n",
       "      <td>978</td>\n",
       "      <td>88.020</td>\n",
       "      <td>1000</td>\n",
       "    </tr>\n",
       "    <tr>\n",
       "      <th>3</th>\n",
       "      <td>D</td>\n",
       "      <td>0.789</td>\n",
       "      <td>0.648</td>\n",
       "      <td>789</td>\n",
       "      <td>511.272</td>\n",
       "      <td>1000</td>\n",
       "    </tr>\n",
       "    <tr>\n",
       "      <th>4</th>\n",
       "      <td>E</td>\n",
       "      <td>0.450</td>\n",
       "      <td>0.890</td>\n",
       "      <td>450</td>\n",
       "      <td>400.500</td>\n",
       "      <td>1000</td>\n",
       "    </tr>\n",
       "    <tr>\n",
       "      <th>5</th>\n",
       "      <td>F</td>\n",
       "      <td>0.908</td>\n",
       "      <td>0.240</td>\n",
       "      <td>908</td>\n",
       "      <td>217.920</td>\n",
       "      <td>1000</td>\n",
       "    </tr>\n",
       "    <tr>\n",
       "      <th>6</th>\n",
       "      <td>G</td>\n",
       "      <td>0.678</td>\n",
       "      <td>0.680</td>\n",
       "      <td>678</td>\n",
       "      <td>461.040</td>\n",
       "      <td>1000</td>\n",
       "    </tr>\n",
       "    <tr>\n",
       "      <th>7</th>\n",
       "      <td>H</td>\n",
       "      <td>0.080</td>\n",
       "      <td>0.990</td>\n",
       "      <td>80</td>\n",
       "      <td>79.200</td>\n",
       "      <td>1000</td>\n",
       "    </tr>\n",
       "    <tr>\n",
       "      <th>8</th>\n",
       "      <td>I</td>\n",
       "      <td>0.120</td>\n",
       "      <td>0.980</td>\n",
       "      <td>120</td>\n",
       "      <td>117.600</td>\n",
       "      <td>1000</td>\n",
       "    </tr>\n",
       "    <tr>\n",
       "      <th>9</th>\n",
       "      <td>J</td>\n",
       "      <td>0.453</td>\n",
       "      <td>0.760</td>\n",
       "      <td>453</td>\n",
       "      <td>344.280</td>\n",
       "      <td>1000</td>\n",
       "    </tr>\n",
       "    <tr>\n",
       "      <th>10</th>\n",
       "      <td>K</td>\n",
       "      <td>0.910</td>\n",
       "      <td>0.234</td>\n",
       "      <td>910</td>\n",
       "      <td>212.940</td>\n",
       "      <td>1000</td>\n",
       "    </tr>\n",
       "    <tr>\n",
       "      <th>11</th>\n",
       "      <td>L</td>\n",
       "      <td>0.358</td>\n",
       "      <td>0.907</td>\n",
       "      <td>358</td>\n",
       "      <td>324.706</td>\n",
       "      <td>1000</td>\n",
       "    </tr>\n",
       "    <tr>\n",
       "      <th>12</th>\n",
       "      <td>M</td>\n",
       "      <td>0.347</td>\n",
       "      <td>0.570</td>\n",
       "      <td>347</td>\n",
       "      <td>197.790</td>\n",
       "      <td>1000</td>\n",
       "    </tr>\n",
       "  </tbody>\n",
       "</table>\n",
       "</div>"
      ],
      "text/plain": [
       "   Food Item  %people (Ate)  %people(Like it)  Total people  \\\n",
       "0          A          0.500             0.910           500   \n",
       "1          B          0.346             0.890           346   \n",
       "2          C          0.978             0.090           978   \n",
       "3          D          0.789             0.648           789   \n",
       "4          E          0.450             0.890           450   \n",
       "5          F          0.908             0.240           908   \n",
       "6          G          0.678             0.680           678   \n",
       "7          H          0.080             0.990            80   \n",
       "8          I          0.120             0.980           120   \n",
       "9          J          0.453             0.760           453   \n",
       "10         K          0.910             0.234           910   \n",
       "11         L          0.358             0.907           358   \n",
       "12         M          0.347             0.570           347   \n",
       "\n",
       "    Number of people liking  Attendence  \n",
       "0                   455.000        1000  \n",
       "1                   307.940        1000  \n",
       "2                    88.020        1000  \n",
       "3                   511.272        1000  \n",
       "4                   400.500        1000  \n",
       "5                   217.920        1000  \n",
       "6                   461.040        1000  \n",
       "7                    79.200        1000  \n",
       "8                   117.600        1000  \n",
       "9                   344.280        1000  \n",
       "10                  212.940        1000  \n",
       "11                  324.706        1000  \n",
       "12                  197.790        1000  "
      ]
     },
     "execution_count": 97,
     "metadata": {},
     "output_type": "execute_result"
    }
   ],
   "source": [
    "file = file.loc[: , ~file.columns.str.contains('^Unnamed')]\n",
    "file"
   ]
  },
  {
   "cell_type": "code",
   "execution_count": 98,
   "metadata": {},
   "outputs": [],
   "source": [
    "import matplotlib.pyplot as plt"
   ]
  },
  {
   "cell_type": "code",
   "execution_count": 99,
   "metadata": {},
   "outputs": [
    {
     "data": {
      "text/html": [
       "<div>\n",
       "<style scoped>\n",
       "    .dataframe tbody tr th:only-of-type {\n",
       "        vertical-align: middle;\n",
       "    }\n",
       "\n",
       "    .dataframe tbody tr th {\n",
       "        vertical-align: top;\n",
       "    }\n",
       "\n",
       "    .dataframe thead th {\n",
       "        text-align: right;\n",
       "    }\n",
       "</style>\n",
       "<table border=\"1\" class=\"dataframe\">\n",
       "  <thead>\n",
       "    <tr style=\"text-align: right;\">\n",
       "      <th></th>\n",
       "      <th>Food Item</th>\n",
       "      <th>%people (Ate)</th>\n",
       "      <th>%people(Like it)</th>\n",
       "      <th>Total people</th>\n",
       "      <th>Number of people liking</th>\n",
       "      <th>Attendence</th>\n",
       "    </tr>\n",
       "  </thead>\n",
       "  <tbody>\n",
       "    <tr>\n",
       "      <th>0</th>\n",
       "      <td>A</td>\n",
       "      <td>0.500</td>\n",
       "      <td>0.910</td>\n",
       "      <td>500</td>\n",
       "      <td>455.000</td>\n",
       "      <td>1000</td>\n",
       "    </tr>\n",
       "    <tr>\n",
       "      <th>1</th>\n",
       "      <td>B</td>\n",
       "      <td>0.346</td>\n",
       "      <td>0.890</td>\n",
       "      <td>346</td>\n",
       "      <td>307.940</td>\n",
       "      <td>1000</td>\n",
       "    </tr>\n",
       "    <tr>\n",
       "      <th>2</th>\n",
       "      <td>C</td>\n",
       "      <td>0.978</td>\n",
       "      <td>0.090</td>\n",
       "      <td>978</td>\n",
       "      <td>88.020</td>\n",
       "      <td>1000</td>\n",
       "    </tr>\n",
       "    <tr>\n",
       "      <th>3</th>\n",
       "      <td>D</td>\n",
       "      <td>0.789</td>\n",
       "      <td>0.648</td>\n",
       "      <td>789</td>\n",
       "      <td>511.272</td>\n",
       "      <td>1000</td>\n",
       "    </tr>\n",
       "    <tr>\n",
       "      <th>4</th>\n",
       "      <td>E</td>\n",
       "      <td>0.450</td>\n",
       "      <td>0.890</td>\n",
       "      <td>450</td>\n",
       "      <td>400.500</td>\n",
       "      <td>1000</td>\n",
       "    </tr>\n",
       "    <tr>\n",
       "      <th>5</th>\n",
       "      <td>F</td>\n",
       "      <td>0.908</td>\n",
       "      <td>0.240</td>\n",
       "      <td>908</td>\n",
       "      <td>217.920</td>\n",
       "      <td>1000</td>\n",
       "    </tr>\n",
       "    <tr>\n",
       "      <th>6</th>\n",
       "      <td>G</td>\n",
       "      <td>0.678</td>\n",
       "      <td>0.680</td>\n",
       "      <td>678</td>\n",
       "      <td>461.040</td>\n",
       "      <td>1000</td>\n",
       "    </tr>\n",
       "    <tr>\n",
       "      <th>7</th>\n",
       "      <td>H</td>\n",
       "      <td>0.080</td>\n",
       "      <td>0.990</td>\n",
       "      <td>80</td>\n",
       "      <td>79.200</td>\n",
       "      <td>1000</td>\n",
       "    </tr>\n",
       "    <tr>\n",
       "      <th>8</th>\n",
       "      <td>I</td>\n",
       "      <td>0.120</td>\n",
       "      <td>0.980</td>\n",
       "      <td>120</td>\n",
       "      <td>117.600</td>\n",
       "      <td>1000</td>\n",
       "    </tr>\n",
       "    <tr>\n",
       "      <th>9</th>\n",
       "      <td>J</td>\n",
       "      <td>0.453</td>\n",
       "      <td>0.760</td>\n",
       "      <td>453</td>\n",
       "      <td>344.280</td>\n",
       "      <td>1000</td>\n",
       "    </tr>\n",
       "    <tr>\n",
       "      <th>10</th>\n",
       "      <td>K</td>\n",
       "      <td>0.910</td>\n",
       "      <td>0.234</td>\n",
       "      <td>910</td>\n",
       "      <td>212.940</td>\n",
       "      <td>1000</td>\n",
       "    </tr>\n",
       "    <tr>\n",
       "      <th>11</th>\n",
       "      <td>L</td>\n",
       "      <td>0.358</td>\n",
       "      <td>0.907</td>\n",
       "      <td>358</td>\n",
       "      <td>324.706</td>\n",
       "      <td>1000</td>\n",
       "    </tr>\n",
       "    <tr>\n",
       "      <th>12</th>\n",
       "      <td>M</td>\n",
       "      <td>0.347</td>\n",
       "      <td>0.570</td>\n",
       "      <td>347</td>\n",
       "      <td>197.790</td>\n",
       "      <td>1000</td>\n",
       "    </tr>\n",
       "  </tbody>\n",
       "</table>\n",
       "</div>"
      ],
      "text/plain": [
       "   Food Item  %people (Ate)  %people(Like it)  Total people  \\\n",
       "0          A          0.500             0.910           500   \n",
       "1          B          0.346             0.890           346   \n",
       "2          C          0.978             0.090           978   \n",
       "3          D          0.789             0.648           789   \n",
       "4          E          0.450             0.890           450   \n",
       "5          F          0.908             0.240           908   \n",
       "6          G          0.678             0.680           678   \n",
       "7          H          0.080             0.990            80   \n",
       "8          I          0.120             0.980           120   \n",
       "9          J          0.453             0.760           453   \n",
       "10         K          0.910             0.234           910   \n",
       "11         L          0.358             0.907           358   \n",
       "12         M          0.347             0.570           347   \n",
       "\n",
       "    Number of people liking  Attendence  \n",
       "0                   455.000        1000  \n",
       "1                   307.940        1000  \n",
       "2                    88.020        1000  \n",
       "3                   511.272        1000  \n",
       "4                   400.500        1000  \n",
       "5                   217.920        1000  \n",
       "6                   461.040        1000  \n",
       "7                    79.200        1000  \n",
       "8                   117.600        1000  \n",
       "9                   344.280        1000  \n",
       "10                  212.940        1000  \n",
       "11                  324.706        1000  \n",
       "12                  197.790        1000  "
      ]
     },
     "execution_count": 99,
     "metadata": {},
     "output_type": "execute_result"
    }
   ],
   "source": [
    "file = file.dropna()\n",
    "file"
   ]
  },
  {
   "cell_type": "code",
   "execution_count": 100,
   "metadata": {},
   "outputs": [
    {
     "name": "stdout",
     "output_type": "stream",
     "text": [
      "['Food Item', '%people (Ate)', '%people(Like it)', 'Total people', 'Number of people liking', 'Attendence']\n"
     ]
    }
   ],
   "source": [
    "print (file.columns.tolist())"
   ]
  },
  {
   "cell_type": "code",
   "execution_count": 101,
   "metadata": {},
   "outputs": [
    {
     "data": {
      "text/plain": [
       "0     0.500\n",
       "1     0.346\n",
       "2     0.978\n",
       "3     0.789\n",
       "4     0.450\n",
       "5     0.908\n",
       "6     0.678\n",
       "7     0.080\n",
       "8     0.120\n",
       "9     0.453\n",
       "10    0.910\n",
       "11    0.358\n",
       "12    0.347\n",
       "Name: %people (Ate), dtype: float64"
      ]
     },
     "execution_count": 101,
     "metadata": {},
     "output_type": "execute_result"
    }
   ],
   "source": [
    "c2 = file['%people (Ate)']\n",
    "c2"
   ]
  },
  {
   "cell_type": "code",
   "execution_count": 102,
   "metadata": {},
   "outputs": [
    {
     "data": {
      "text/plain": [
       "0     A\n",
       "1     B\n",
       "2     C\n",
       "3     D\n",
       "4     E\n",
       "5     F\n",
       "6     G\n",
       "7     H\n",
       "8     I\n",
       "9     J\n",
       "10    K\n",
       "11    L\n",
       "12    M\n",
       "Name: Food Item, dtype: object"
      ]
     },
     "execution_count": 102,
     "metadata": {},
     "output_type": "execute_result"
    }
   ],
   "source": [
    "c1 = file['Food Item']\n",
    "c1"
   ]
  },
  {
   "cell_type": "code",
   "execution_count": 103,
   "metadata": {},
   "outputs": [
    {
     "data": {
      "text/plain": [
       "0     0.910\n",
       "1     0.890\n",
       "2     0.090\n",
       "3     0.648\n",
       "4     0.890\n",
       "5     0.240\n",
       "6     0.680\n",
       "7     0.990\n",
       "8     0.980\n",
       "9     0.760\n",
       "10    0.234\n",
       "11    0.907\n",
       "12    0.570\n",
       "Name: %people(Like it), dtype: float64"
      ]
     },
     "execution_count": 103,
     "metadata": {},
     "output_type": "execute_result"
    }
   ],
   "source": [
    "c3 = file['%people(Like it)']\n",
    "c3"
   ]
  },
  {
   "cell_type": "code",
   "execution_count": 104,
   "metadata": {},
   "outputs": [],
   "source": [
    "x1 = list(c1)\n",
    "x2 = list(c2)\n",
    "x3 = list(c3)"
   ]
  },
  {
   "cell_type": "code",
   "execution_count": 105,
   "metadata": {},
   "outputs": [
    {
     "data": {
      "text/plain": [
       "['A', 'B', 'C', 'D', 'E', 'F', 'G', 'H', 'I', 'J', 'K', 'L', 'M']"
      ]
     },
     "execution_count": 105,
     "metadata": {},
     "output_type": "execute_result"
    }
   ],
   "source": [
    "x1"
   ]
  },
  {
   "cell_type": "code",
   "execution_count": 106,
   "metadata": {},
   "outputs": [
    {
     "data": {
      "text/plain": [
       "[0.5,\n",
       " 0.34600000000000003,\n",
       " 0.978,\n",
       " 0.789,\n",
       " 0.45,\n",
       " 0.9079999999999999,\n",
       " 0.6779999999999999,\n",
       " 0.08,\n",
       " 0.12,\n",
       " 0.45299999999999996,\n",
       " 0.91,\n",
       " 0.358,\n",
       " 0.34700000000000003]"
      ]
     },
     "execution_count": 106,
     "metadata": {},
     "output_type": "execute_result"
    }
   ],
   "source": [
    "x2"
   ]
  },
  {
   "cell_type": "code",
   "execution_count": 107,
   "metadata": {},
   "outputs": [
    {
     "data": {
      "text/plain": [
       "[0.91,\n",
       " 0.89,\n",
       " 0.09,\n",
       " 0.648,\n",
       " 0.89,\n",
       " 0.24,\n",
       " 0.68,\n",
       " 0.99,\n",
       " 0.98,\n",
       " 0.76,\n",
       " 0.23399999999999999,\n",
       " 0.907,\n",
       " 0.57]"
      ]
     },
     "execution_count": 107,
     "metadata": {},
     "output_type": "execute_result"
    }
   ],
   "source": [
    "x3"
   ]
  },
  {
   "cell_type": "code",
   "execution_count": 108,
   "metadata": {},
   "outputs": [
    {
     "data": {
      "text/plain": [
       "0     500\n",
       "1     346\n",
       "2     978\n",
       "3     789\n",
       "4     450\n",
       "5     908\n",
       "6     678\n",
       "7      80\n",
       "8     120\n",
       "9     453\n",
       "10    910\n",
       "11    358\n",
       "12    347\n",
       "Name: Total people, dtype: int64"
      ]
     },
     "execution_count": 108,
     "metadata": {},
     "output_type": "execute_result"
    }
   ],
   "source": [
    "c4 = file['Total people']\n",
    "c4"
   ]
  },
  {
   "cell_type": "code",
   "execution_count": 109,
   "metadata": {},
   "outputs": [
    {
     "data": {
      "text/plain": [
       "0     455.000\n",
       "1     307.940\n",
       "2      88.020\n",
       "3     511.272\n",
       "4     400.500\n",
       "5     217.920\n",
       "6     461.040\n",
       "7      79.200\n",
       "8     117.600\n",
       "9     344.280\n",
       "10    212.940\n",
       "11    324.706\n",
       "12    197.790\n",
       "Name: Number of people liking, dtype: float64"
      ]
     },
     "execution_count": 109,
     "metadata": {},
     "output_type": "execute_result"
    }
   ],
   "source": [
    "c5 = file['Number of people liking']\n",
    "c5"
   ]
  },
  {
   "cell_type": "code",
   "execution_count": 110,
   "metadata": {},
   "outputs": [
    {
     "data": {
      "text/plain": [
       "[500, 346, 978, 789, 450, 908, 678, 80, 120, 453, 910, 358, 347]"
      ]
     },
     "execution_count": 110,
     "metadata": {},
     "output_type": "execute_result"
    }
   ],
   "source": [
    "x4 = list(c4)\n",
    "x4"
   ]
  },
  {
   "cell_type": "code",
   "execution_count": 111,
   "metadata": {},
   "outputs": [
    {
     "data": {
      "text/plain": [
       "[455.0,\n",
       " 307.94,\n",
       " 88.02,\n",
       " 511.272,\n",
       " 400.5,\n",
       " 217.92,\n",
       " 461.04,\n",
       " 79.2,\n",
       " 117.6,\n",
       " 344.28,\n",
       " 212.94,\n",
       " 324.70599999999996,\n",
       " 197.79]"
      ]
     },
     "execution_count": 111,
     "metadata": {},
     "output_type": "execute_result"
    }
   ],
   "source": [
    "x5 = list(c5)\n",
    "x5"
   ]
  },
  {
   "cell_type": "code",
   "execution_count": 112,
   "metadata": {},
   "outputs": [
    {
     "data": {
      "image/png": "[encoded data removed]",
      "text/plain": [
       "<Figure size 432x288 with 1 Axes>"
      ]
     },
     "metadata": {
      "needs_background": "light"
     },
     "output_type": "display_data"
    }
   ],
   "source": [
    "plt.scatter(x1,x2)\n",
    "plt.xlabel('x1-Food')\n",
    "plt.ylabel('fraction of people')\n",
    "plt.title('Fraction')\n",
    "plt.show()"
   ]
  },
  {
   "cell_type": "code",
   "execution_count": 113,
   "metadata": {},
   "outputs": [
    {
     "data": {
      "image/png": "[encoded data removed]",
      "text/plain": [
       "<Figure size 432x288 with 1 Axes>"
      ]
     },
     "metadata": {
      "needs_background": "light"
     },
     "output_type": "display_data"
    }
   ],
   "source": [
    "plt.bar(x1,x2)\n",
    "plt.xlabel('x1-Food')\n",
    "plt.ylabel('fraction of people')\n",
    "plt.title('Fraction')\n",
    "plt.show()"
   ]
  },
  {
   "cell_type": "code",
   "execution_count": 114,
   "metadata": {},
   "outputs": [
    {
     "data": {
      "image/png": "[encoded data removed]",
      "text/plain": [
       "<Figure size 432x288 with 1 Axes>"
      ]
     },
     "metadata": {},
     "output_type": "display_data"
    }
   ],
   "source": [
    "plt.pie(x2,labels = x1,autopct = '%.2f%%')\n",
    "plt.xlabel('x1-Food')\n",
    "plt.ylabel('fraction of people')\n",
    "plt.title('Fraction')\n",
    "plt.show()"
   ]
  },
  {
   "cell_type": "code",
   "execution_count": null,
   "metadata": {},
   "outputs": [],
   "source": []
  }
 ],
 "metadata": {
  "kernelspec": {
   "display_name": "Python 3",
   "language": "python",
   "name": "python3"
  },
  "language_info": {
   "codemirror_mode": {
    "name": "ipython",
    "version": 3
   },
   "file_extension": ".py",
   "mimetype": "text/x-python",
   "name": "python",
   "nbconvert_exporter": "python",
   "pygments_lexer": "ipython3",
   "version": "3.7.6"
  }
 },
 "nbformat": 4,
 "nbformat_minor": 2
}
